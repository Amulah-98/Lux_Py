{
 "cells": [
  {
   "cell_type": "code",
   "execution_count": 4,
   "id": "2a400e2c",
   "metadata": {},
   "outputs": [
    {
     "name": "stdout",
     "output_type": "stream",
     "text": [
      "Hi, enter number of terms to for the Sequence: 10\n",
      "Generating Fibonacci sequence upto  10 : \n",
      "0\n",
      "1\n",
      "1\n",
      "2\n",
      "3\n",
      "5\n",
      "8\n",
      "13\n",
      "21\n",
      "34\n"
     ]
    }
   ],
   "source": [
    "def fibonacciSequence():\n",
    "    numberOfTerms = int(input(\"Hi, enter number of terms to for the Sequence: \"))\n",
    "\n",
    "    # Defining the first two terms that are mandatory    \n",
    "    # Normally, 0 and 1 are the first and second terms of the series, hence:\n",
    "\n",
    "    firstNum = 0\n",
    "    secondNum = 1\n",
    "    count = 0\n",
    "    # Ensuring the user enters valid inputs, i.e., Fibonacci sequence starts from 0\n",
    "    if (numberOfTerms <= 0):\n",
    "        print(\"Invalid entry, please enter value more than 0\")\n",
    "\n",
    "    elif(numberOfTerms == 1):\n",
    "            print(\"Generating Fibonacci Sequence upto \", numberOfTerms, \": \")\n",
    "            print(firstNum)\n",
    "\n",
    "    # For all other cases, i.e., when NumberOfTerms > 1\n",
    "    else:\n",
    "        print(\"Generating Fibonacci sequence upto \", numberOfTerms, \": \")\n",
    "        while count < numberOfTerms:\n",
    "            print(firstNum)\n",
    "            nthNumber = firstNum + secondNum\n",
    "\n",
    "        #  Swapping the values for firstNum and secondNum\n",
    "            firstNum = secondNum\n",
    "            secondNum = nthNumber\n",
    "            count += 1\n",
    "\n",
    "# Call the function\n",
    "fibonacciSequence()"
   ]
  },
  {
   "cell_type": "code",
   "execution_count": null,
   "id": "271e4f94",
   "metadata": {},
   "outputs": [],
   "source": []
  },
  {
   "cell_type": "code",
   "execution_count": null,
   "id": "2d4f1cc2",
   "metadata": {},
   "outputs": [],
   "source": []
  }
 ],
 "metadata": {
  "kernelspec": {
   "display_name": "Python 3",
   "language": "python",
   "name": "python3"
  },
  "language_info": {
   "codemirror_mode": {
    "name": "ipython",
    "version": 3
   },
   "file_extension": ".py",
   "mimetype": "text/x-python",
   "name": "python",
   "nbconvert_exporter": "python",
   "pygments_lexer": "ipython3",
   "version": "3.8.8"
  }
 },
 "nbformat": 4,
 "nbformat_minor": 5
}
